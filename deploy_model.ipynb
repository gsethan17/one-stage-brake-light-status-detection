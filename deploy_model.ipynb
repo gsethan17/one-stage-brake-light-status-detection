{
 "cells": [
  {
   "cell_type": "code",
   "execution_count": 6,
   "id": "5b441d9c-a479-4c8a-82f0-ce828be77867",
   "metadata": {},
   "outputs": [
    {
     "name": "stdout",
     "output_type": "stream",
     "text": [
      "loading Roboflow workspace...\n",
      "loading Roboflow project...\n"
     ]
    }
   ],
   "source": [
    "from roboflow import Roboflow\n",
    "from config import TRAIN_API_KEY\n",
    "\n",
    "rf = Roboflow(api_key=TRAIN_API_KEY)\n",
    "project = rf.workspace(\"kookmin-university-glfyz\").project(\"state-of-vehicle-tail-lamp-detection\")\n",
    "dataset = project.version(2)"
   ]
  },
  {
   "cell_type": "code",
   "execution_count": 8,
   "id": "60e7f76c-f1dc-4319-b5ab-0558e013a46c",
   "metadata": {},
   "outputs": [
    {
     "name": "stdout",
     "output_type": "stream",
     "text": [
      "View the status of your deployment at: https://app.roboflow.com/kookmin-university-glfyz/state-of-vehicle-tail-lamp-detection/deploy/2\n",
      "Share your model with the world at: https://universe.roboflow.com/kookmin-university-glfyz/state-of-vehicle-tail-lamp-detection/model/2\n",
      "View the status of your deployment at: https://app.roboflow.com/kookmin-university-glfyz/state-of-vehicle-tail-lamp-detection/deploy/2\n",
      "Share your model with the world at: https://universe.roboflow.com/kookmin-university-glfyz/state-of-vehicle-tail-lamp-detection/model/2\n",
      "View the status of your deployment at: https://app.roboflow.com/kookmin-university-glfyz/state-of-vehicle-tail-lamp-detection/deploy/2\n",
      "Share your model with the world at: https://universe.roboflow.com/kookmin-university-glfyz/state-of-vehicle-tail-lamp-detection/model/2\n",
      "View the status of your deployment at: https://app.roboflow.com/kookmin-university-glfyz/state-of-vehicle-tail-lamp-detection/deploy/2\n",
      "Share your model with the world at: https://universe.roboflow.com/kookmin-university-glfyz/state-of-vehicle-tail-lamp-detection/model/2\n"
     ]
    }
   ],
   "source": [
    "import os\n",
    "\n",
    "weight_path = os.path.join(os.getcwd(), 'runs', 'detect', 'train_n_300')\n",
    "project.version(dataset.version).deploy(model_type=\"yolov8\", model_path=weight_path)\n",
    "weight_path = os.path.join(os.getcwd(), 'runs', 'detect', 'train_s_300')\n",
    "project.version(dataset.version).deploy(model_type=\"yolov8\", model_path=weight_path)\n",
    "weight_path = os.path.join(os.getcwd(), 'runs', 'detect', 'train_m_300')\n",
    "project.version(dataset.version).deploy(model_type=\"yolov8\", model_path=weight_path)\n",
    "weight_path = os.path.join(os.getcwd(), 'runs', 'detect', 'train_l_300')\n",
    "project.version(dataset.version).deploy(model_type=\"yolov8\", model_path=weight_path)"
   ]
  },
  {
   "cell_type": "code",
   "execution_count": null,
   "id": "d942fc7b-ed3c-407e-b03f-2f1e4c95a281",
   "metadata": {},
   "outputs": [],
   "source": []
  }
 ],
 "metadata": {
  "kernelspec": {
   "display_name": "tail",
   "language": "python",
   "name": "tail"
  },
  "language_info": {
   "codemirror_mode": {
    "name": "ipython",
    "version": 3
   },
   "file_extension": ".py",
   "mimetype": "text/x-python",
   "name": "python",
   "nbconvert_exporter": "python",
   "pygments_lexer": "ipython3",
   "version": "3.8.16"
  }
 },
 "nbformat": 4,
 "nbformat_minor": 5
}
