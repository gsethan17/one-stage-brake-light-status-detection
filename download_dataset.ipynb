{
 "cells": [
  {
   "cell_type": "code",
   "execution_count": 2,
   "id": "73f8e67e-aa09-4d0e-94d6-9a7ea42168f4",
   "metadata": {},
   "outputs": [
    {
     "name": "stdout",
     "output_type": "stream",
     "text": [
      "/home/gsethan/Desktop/tail-light-detection/datasets\n"
     ]
    }
   ],
   "source": [
    "%cd ./datasets"
   ]
  },
  {
   "cell_type": "code",
   "execution_count": 4,
   "id": "e7f5d495-9d3d-4009-bc91-9039d15dccd6",
   "metadata": {},
   "outputs": [],
   "source": [
    "from roboflow import Roboflow\n",
    "from config import TRAIN_API_KEY, TEST_API_KEY"
   ]
  },
  {
   "cell_type": "code",
   "execution_count": null,
   "id": "0df9229e-fc7b-4465-a598-d627cb44e3c9",
   "metadata": {},
   "outputs": [],
   "source": [
    "# train dataset download\n",
    "rf = Roboflow(api_key=TRAIN_API_KEY)\n",
    "project = rf.workspace(\"kookmin-university-glfyz\").project(\"state-of-vehicle-tail-lamp-detection\")\n",
    "dataset = project.version(2).download(\"yolov8\")\n"
   ]
  },
  {
   "cell_type": "code",
   "execution_count": 6,
   "id": "1d997d6e-c3d4-45b7-9d74-1459c1712b7b",
   "metadata": {},
   "outputs": [
    {
     "name": "stdout",
     "output_type": "stream",
     "text": [
      "loading Roboflow workspace...\n",
      "loading Roboflow project...\n",
      "Downloading Dataset Version Zip in state-of-vehicle-tail-lamp-detection-test-night-1 to yolov8: 33% [24567808 / 73659110] bytes"
     ]
    },
    {
     "name": "stderr",
     "output_type": "stream",
     "text": [
      "IOPub message rate exceeded.\n",
      "The Jupyter server will temporarily stop sending output\n",
      "to the client in order to avoid crashing it.\n",
      "To change this limit, set the config variable\n",
      "`--ServerApp.iopub_msg_rate_limit`.\n",
      "\n",
      "Current values:\n",
      "ServerApp.iopub_msg_rate_limit=1000.0 (msgs/sec)\n",
      "ServerApp.rate_limit_window=3.0 (secs)\n",
      "\n"
     ]
    },
    {
     "name": "stdout",
     "output_type": "stream",
     "text": [
      "Downloading Dataset Version Zip in state-of-vehicle-tail-lamp-detection-test-night-1 to yolov8: 80% [59416576 / 73659110] bytes"
     ]
    },
    {
     "name": "stderr",
     "output_type": "stream",
     "text": [
      "IOPub message rate exceeded.\n",
      "The Jupyter server will temporarily stop sending output\n",
      "to the client in order to avoid crashing it.\n",
      "To change this limit, set the config variable\n",
      "`--ServerApp.iopub_msg_rate_limit`.\n",
      "\n",
      "Current values:\n",
      "ServerApp.iopub_msg_rate_limit=1000.0 (msgs/sec)\n",
      "ServerApp.rate_limit_window=3.0 (secs)\n",
      "\n"
     ]
    }
   ],
   "source": [
    "# night test dataset\n",
    "rf = Roboflow(api_key=TEST_API_KEY)\n",
    "project = rf.workspace(\"kookmin-univ-vb5qf\").project(\"state-of-vehicle-tail-lamp-detection-test-night-uqcrn\")\n",
    "dataset = project.version(1).download(\"yolov8\")"
   ]
  },
  {
   "cell_type": "code",
   "execution_count": 7,
   "id": "a711ea51-1922-4761-a4b7-5286c9c8ae2d",
   "metadata": {},
   "outputs": [
    {
     "name": "stdout",
     "output_type": "stream",
     "text": [
      "loading Roboflow workspace...\n",
      "loading Roboflow project...\n",
      "Downloading Dataset Version Zip in state-of-vehicle-tail-lamp-detection-test-night-2 to yolov8: 100% [158950382 / 158950382] bytes\n"
     ]
    },
    {
     "name": "stderr",
     "output_type": "stream",
     "text": [
      "Extracting Dataset Version Zip to state-of-vehicle-tail-lamp-detection-test-night-2 in yolov8:: 100%|████████████████████████████████| 6398/6398 [00:00<00:00, 16106.50it/s]\n"
     ]
    }
   ],
   "source": [
    "# total test dataset\n",
    "rf = Roboflow(api_key=TEST_API_KEY)\n",
    "project = rf.workspace(\"kookmin-univ-vb5qf\").project(\"state-of-vehicle-tail-lamp-detection-test-night-uqcrn\")\n",
    "dataset = project.version(2).download(\"yolov8\")"
   ]
  },
  {
   "cell_type": "code",
   "execution_count": 8,
   "id": "7c880ae8-8aa5-44a0-8b00-ede77a4786a0",
   "metadata": {},
   "outputs": [
    {
     "name": "stdout",
     "output_type": "stream",
     "text": [
      "loading Roboflow workspace...\n",
      "loading Roboflow project...\n",
      "Downloading Dataset Version Zip in State-of-vehicle-tail-lamp-detection-test-day-1 to yolov8: 28% [24567808 / 85293714] bytes"
     ]
    },
    {
     "name": "stderr",
     "output_type": "stream",
     "text": [
      "IOPub message rate exceeded.\n",
      "The Jupyter server will temporarily stop sending output\n",
      "to the client in order to avoid crashing it.\n",
      "To change this limit, set the config variable\n",
      "`--ServerApp.iopub_msg_rate_limit`.\n",
      "\n",
      "Current values:\n",
      "ServerApp.iopub_msg_rate_limit=1000.0 (msgs/sec)\n",
      "ServerApp.rate_limit_window=3.0 (secs)\n",
      "\n"
     ]
    },
    {
     "name": "stdout",
     "output_type": "stream",
     "text": [
      "Downloading Dataset Version Zip in State-of-vehicle-tail-lamp-detection-test-day-1 to yolov8: 91% [77930496 / 85293714] bytes"
     ]
    },
    {
     "name": "stderr",
     "output_type": "stream",
     "text": [
      "IOPub message rate exceeded.\n",
      "The Jupyter server will temporarily stop sending output\n",
      "to the client in order to avoid crashing it.\n",
      "To change this limit, set the config variable\n",
      "`--ServerApp.iopub_msg_rate_limit`.\n",
      "\n",
      "Current values:\n",
      "ServerApp.iopub_msg_rate_limit=1000.0 (msgs/sec)\n",
      "ServerApp.rate_limit_window=3.0 (secs)\n",
      "\n"
     ]
    }
   ],
   "source": [
    "# day test dataset\n",
    "rf = Roboflow(api_key=TEST_API_KEY)\n",
    "project = rf.workspace(\"kookmin-univ-vb5qf\").project(\"state-of-vehicle-tail-lamp-detection-test-day\")\n",
    "dataset = project.version(1).download(\"yolov8\")"
   ]
  }
 ],
 "metadata": {
  "kernelspec": {
   "display_name": "tail",
   "language": "python",
   "name": "tail"
  },
  "language_info": {
   "codemirror_mode": {
    "name": "ipython",
    "version": 3
   },
   "file_extension": ".py",
   "mimetype": "text/x-python",
   "name": "python",
   "nbconvert_exporter": "python",
   "pygments_lexer": "ipython3",
   "version": "3.8.16"
  }
 },
 "nbformat": 4,
 "nbformat_minor": 5
}
